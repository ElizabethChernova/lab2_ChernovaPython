{
  "cells": [
    {
      "cell_type": "markdown",
      "metadata": {
        "id": "p9wwt0LZzNvn"
      },
      "source": [
        "# I. Змінні та памʼять."
      ]
    },
    {
      "cell_type": "markdown",
      "metadata": {
        "id": "HTJrrm95xSV9"
      },
      "source": [
        "1. Створити змінні, що посилаються на два цілих числа, що однакові за значенням, де значення належить проміжку від -5 до 256. Перевірте, чи будуть ці змінні рівні тільки за значенням або ж ще будуть посилатися на один і той самий обʼєкт в памʼяті? Наведіть код та дайте текстову відповідь нижче."
      ]
    },
    {
      "cell_type": "code",
      "execution_count": 4,
      "metadata": {
        "id": "TATni2vzayjG",
        "is_executing": true,
        "colab": {
          "base_uri": "https://localhost:8080/"
        },
        "outputId": "b1d5fa6a-4cf2-4cf4-a8ff-aae137be3ab1"
      },
      "outputs": [
        {
          "output_type": "stream",
          "name": "stdout",
          "text": [
            "Число 1: 42\n",
            "Число 2: 42\n",
            "Числа рівні за значенням: True\n",
            "Числа посилаються на один і той самий об'єкт в пам'яті: True\n"
          ]
        }
      ],
      "source": [
        "num1 = 42\n",
        "num2 = 42\n",
        "\n",
        "are_same_object = num1 is num2\n",
        "\n",
        "print(f\"Число 1: {num1}\")\n",
        "print(f\"Число 2: {num2}\")\n",
        "print(f\"Числа рівні за значенням: {num1 == num2}\")\n",
        "print(f\"Числа посилаються на один і той самий об'єкт в пам'яті: {are_same_object}\")\n",
        "#Так, змінні посиляються на один і той самий об'єкт"
      ]
    },
    {
      "cell_type": "markdown",
      "metadata": {
        "id": "zfRG_o3WbRdg"
      },
      "source": [
        "Так, змінні посиляються на один і той самий об'єкт"
      ]
    },
    {
      "cell_type": "markdown",
      "metadata": {
        "id": "ISORzt6M3vAt"
      },
      "source": [
        "2. За допомогою якої функції можна перевірити належність змінної до вказаного типу даних (напр. чи змінна True посилається на значення булевого та цілочисленого типу)?"
      ]
    },
    {
      "cell_type": "code",
      "execution_count": 5,
      "metadata": {
        "id": "9vL9CFaMbfyo",
        "colab": {
          "base_uri": "https://localhost:8080/"
        },
        "outputId": "23dd091d-c79f-4ca6-ba06-b40963055af2"
      },
      "outputs": [
        {
          "output_type": "stream",
          "name": "stdout",
          "text": [
            "Моя змінна: 45\n",
            "Чи змінна належить до булевого типу: False\n",
            "Чи змінна належить до цілочисельного типу: True\n",
            "Моя змінна: False\n",
            "Чи змінна належить до булевого типу: True\n",
            "Чи змінна належить до цілочисельного типу: True\n"
          ]
        }
      ],
      "source": [
        "my_variable_int = 45\n",
        "my_var_bool = False\n",
        "is_boolean1 = isinstance(my_variable_int, bool)\n",
        "\n",
        "is_integer1 = isinstance(my_variable_int, int)\n",
        "\n",
        "is_boolean2 = isinstance(my_var_bool, bool)\n",
        "\n",
        "is_integer2 = isinstance(my_var_bool, int)\n",
        "\n",
        "print(f\"Моя змінна: {my_variable_int}\")\n",
        "print(f\"Чи змінна належить до булевого типу: {is_boolean1}\")\n",
        "print(f\"Чи змінна належить до цілочисельного типу: {is_integer1}\")\n",
        "\n",
        "print(f\"Моя змінна: {my_var_bool}\")\n",
        "print(f\"Чи змінна належить до булевого типу: {is_boolean2}\")\n",
        "print(f\"Чи змінна належить до цілочисельного типу: {is_integer2}\")"
      ]
    },
    {
      "cell_type": "markdown",
      "metadata": {
        "id": "tRxugKAxwYLw"
      },
      "source": [
        "# II. Цілі числа та числа з рухомою комою"
      ]
    },
    {
      "cell_type": "markdown",
      "metadata": {
        "id": "NLHkgd5Gybc8"
      },
      "source": [
        "3. Створити дві змінні, що посилаються на будь-які ціле число та число з рухомою комою та продемонструвати такі арифметичні операції: додавання, віднімання, ділення, множення, ділення без залишку, ділення по модулю, приведення до ступеню. Всі результати операцій вивести на екран."
      ]
    },
    {
      "cell_type": "code",
      "execution_count": 6,
      "metadata": {
        "id": "nb8u_3pjb2cA",
        "colab": {
          "base_uri": "https://localhost:8080/"
        },
        "outputId": "6efa4ae3-0991-4f81-819d-5e6bd2f61c78"
      },
      "outputs": [
        {
          "output_type": "stream",
          "name": "stdout",
          "text": [
            "--------------------3-----------------\n",
            "Додавання: 12.5\n",
            "Віднімання: 3.5\n",
            "Ділення: 1.7777777777777777\n",
            "Множення: 36.0\n",
            "Ділення без залишку: 1.0\n",
            "Ділення по модулю: 3.5\n",
            "Підняття до ступеня: 64\n"
          ]
        }
      ],
      "source": [
        "int_vaar = 8\n",
        "fl_var = 4.5\n",
        "print(\"--------------------3-----------------\")\n",
        "print(f\"Додавання: {(int_vaar + fl_var)}\")\n",
        "print(f\"Віднімання: {(int_vaar - fl_var)}\")\n",
        "print(f\"Ділення: {(int_vaar / fl_var)}\")\n",
        "print(f\"Множення: {(int_vaar * fl_var)}\")\n",
        "print(f\"Ділення без залишку: {(int_vaar // fl_var)}\")\n",
        "print(f\"Ділення по модулю: {(int_vaar % fl_var)}\")\n",
        "print(f\"Підняття до ступеня: {(int_vaar ** 2)}\")"
      ]
    },
    {
      "cell_type": "markdown",
      "metadata": {
        "id": "1kBClKgPzZnC"
      },
      "source": [
        "4. Використовуючи змінні з вправи 3, продемонструйте механізм явного перетворення типів, де числа з рухомою комою перетворюються на цілі числа. Також визначте змінну, що посилається на значення булевого типу і спробуйте явно привести її до цілого числа."
      ]
    },
    {
      "cell_type": "code",
      "execution_count": 7,
      "metadata": {
        "id": "TbqJbkeUcKsD",
        "colab": {
          "base_uri": "https://localhost:8080/"
        },
        "outputId": "7e7e10f0-4249-4a1c-dd52-8f85a1ca60ab"
      },
      "outputs": [
        {
          "output_type": "stream",
          "name": "stdout",
          "text": [
            "Ціле число з числа з рухомою комою: 4\n",
            "Ціле число з булевого значення: 1\n"
          ]
        }
      ],
      "source": [
        "int_from_float = int(fl_var)\n",
        "print(f\"Ціле число з числа з рухомою комою: {int_from_float}\")\n",
        "\n",
        "bool_variable = True\n",
        "int_from_bool = int(bool_variable)\n",
        "print(f\"Ціле число з булевого значення: {int_from_bool}\")"
      ]
    },
    {
      "cell_type": "markdown",
      "metadata": {
        "id": "EVJ7AflwxrZi"
      },
      "source": [
        "# IІІ. Рядки (String)."
      ]
    },
    {
      "cell_type": "markdown",
      "metadata": {
        "id": "_s5ECzz9zE61"
      },
      "source": [
        "5. Створити пустий рядок двома різними способами."
      ]
    },
    {
      "cell_type": "code",
      "execution_count": 8,
      "metadata": {
        "id": "fkZJHu9Scvc-",
        "colab": {
          "base_uri": "https://localhost:8080/"
        },
        "outputId": "f4bc2fde-2317-4791-ae5e-814625a8ecf8"
      },
      "outputs": [
        {
          "output_type": "stream",
          "name": "stdout",
          "text": [
            "Пустий рядок 1: ''\n",
            "Пустий рядок 2: ''\n"
          ]
        }
      ],
      "source": [
        "empty_string1 = str()\n",
        "empty_string2 = \"\"\n",
        "print(f\"Пустий рядок 1: '{empty_string1}'\")\n",
        "print(f\"Пустий рядок 2: '{empty_string2}'\")"
      ]
    },
    {
      "cell_type": "markdown",
      "metadata": {
        "id": "4Bdn9J3MzLf_"
      },
      "source": [
        "6. Створити рядок з апострофом. Зробити його сирим. Вивести обидва рядка на екран."
      ]
    },
    {
      "cell_type": "code",
      "execution_count": 9,
      "metadata": {
        "id": "ivji_hsmc0GH",
        "colab": {
          "base_uri": "https://localhost:8080/"
        },
        "outputId": "b040df91-b067-42ab-f0f6-9b0ee275db7f"
      },
      "outputs": [
        {
          "output_type": "stream",
          "name": "stdout",
          "text": [
            "This is an apostrophe: '\n",
            "This is a raw string with an apostrophe: \\'\n"
          ]
        }
      ],
      "source": [
        "string_with_apostrophe = 'This is an apostrophe: \\''\n",
        "raw_string = r'This is a raw string with an apostrophe: \\''\n",
        "print(string_with_apostrophe)\n",
        "print(raw_string)"
      ]
    },
    {
      "cell_type": "markdown",
      "metadata": {
        "id": "bg_d8wM4z8dS"
      },
      "source": [
        "7. Створити змінну, що буде посилатися на Ваше прізвище латинкою. Створити форматований рядок, який буде мати вигляд \"My surname is ______\", де на місці нижніх підкреслень буде Ваше прізвище зі змінної."
      ]
    },
    {
      "cell_type": "code",
      "execution_count": 10,
      "metadata": {
        "id": "kuxFgpWndACq",
        "colab": {
          "base_uri": "https://localhost:8080/"
        },
        "outputId": "18b99669-8f90-40fa-c70d-1177e91a4914"
      },
      "outputs": [
        {
          "output_type": "stream",
          "name": "stdout",
          "text": [
            "My surname is Chernova\n"
          ]
        }
      ],
      "source": [
        "surname = \"Chernova\"\n",
        "formatted_string = f\"My surname is {surname}\"\n",
        "print(formatted_string)"
      ]
    },
    {
      "cell_type": "markdown",
      "metadata": {
        "id": "1Nc6RqvQ0hxU"
      },
      "source": [
        "8. Маючи рядок \"My dog is crazy.\" перетворити його на список [\"my\", \"dog\", \"is\", \"crazy\"]"
      ]
    },
    {
      "cell_type": "code",
      "execution_count": 11,
      "metadata": {
        "id": "w1Ya4RqedUhw",
        "colab": {
          "base_uri": "https://localhost:8080/"
        },
        "outputId": "956affd3-676d-485a-d7da-ef197dffe7fc"
      },
      "outputs": [
        {
          "output_type": "stream",
          "name": "stdout",
          "text": [
            "['My', 'dog', 'is', 'crazy.']\n"
          ]
        }
      ],
      "source": [
        "my_string_about_dog = \"My dog is crazy.\"\n",
        "\n",
        "dog_word_list = my_string_about_dog.split()\n",
        "print(dog_word_list)"
      ]
    },
    {
      "cell_type": "markdown",
      "metadata": {
        "id": "GYVqN9uP1D4n"
      },
      "source": [
        "# IV. Робота зі списками."
      ]
    },
    {
      "cell_type": "markdown",
      "metadata": {
        "id": "7-DeDunw2sO-"
      },
      "source": [
        "9. Створити список двома різними за синтаксисом способами. За допомогою вбудованої функції обчисліть довжину одного з них."
      ]
    },
    {
      "cell_type": "code",
      "execution_count": 12,
      "metadata": {
        "id": "zxg06Uuxdyoh",
        "colab": {
          "base_uri": "https://localhost:8080/"
        },
        "outputId": "3219027b-e15a-4322-8290-6bbaea852075"
      },
      "outputs": [
        {
          "output_type": "stream",
          "name": "stdout",
          "text": [
            "Список1: [1, 2, 3, 4, 5]\n",
            "Список2: [5, 6, 7, 8, 9]\n",
            "Довжина списку: 5\n"
          ]
        }
      ],
      "source": [
        "list_1 = [1, 2, 3, 4, 5]\n",
        "list_2 = list(range(5, 10))\n",
        "\n",
        "length_of_list = len(list_1)\n",
        "print(f\"Список1: {list_1}\")\n",
        "print(f\"Список2: {list_2}\")\n",
        "print(f\"Довжина списку: {length_of_list}\")"
      ]
    },
    {
      "cell_type": "markdown",
      "metadata": {
        "id": "8vmGUTjL22gI"
      },
      "source": [
        "10. Створіть два списка та за допомогою спеціального методу додайте другий з них в якості останнього елемента першого."
      ]
    },
    {
      "cell_type": "code",
      "execution_count": 13,
      "metadata": {
        "id": "uHtjWYw7d7hm",
        "colab": {
          "base_uri": "https://localhost:8080/"
        },
        "outputId": "8f731d0a-8387-4e64-fb9a-250a39e209ea"
      },
      "outputs": [
        {
          "output_type": "stream",
          "name": "stdout",
          "text": [
            "Список1: [1, 2, 3]\n",
            "Список2: [4, 5, 6]\n",
            "Об'єднаний список: [1, 2, 3, 4, 5, 6]\n"
          ]
        }
      ],
      "source": [
        "list1 = [1, 2, 3]\n",
        "list2 = [4, 5, 6]\n",
        "print(f\"Список1: {list1}\")\n",
        "print(f\"Список2: {list2}\")\n",
        "list1.extend(list2)\n",
        "print(\"Об'єднаний список:\", list1)"
      ]
    },
    {
      "cell_type": "markdown",
      "metadata": {
        "id": "JC3BkD-67_--"
      },
      "source": [
        "11. Створіть список, де елементами цього списку також є списки. Отримай перший елемент з останнього рядка та виведи значення на екран."
      ]
    },
    {
      "cell_type": "code",
      "execution_count": 14,
      "metadata": {
        "id": "Kz2jZHsGeLlz",
        "colab": {
          "base_uri": "https://localhost:8080/"
        },
        "outputId": "45de7822-4373-4694-c8c0-98670626492e"
      },
      "outputs": [
        {
          "output_type": "stream",
          "name": "stdout",
          "text": [
            "Значення з останнього рядка: 7\n"
          ]
        }
      ],
      "source": [
        "nested_list = [[1, 2, 3], [4, 5, 6], [7, 8, 9]]\n",
        "\n",
        "value = nested_list[-1][0]\n",
        "print(\"Значення з останнього рядка:\", value)"
      ]
    },
    {
      "cell_type": "markdown",
      "metadata": {
        "id": "JA47PKTv8zFK"
      },
      "source": [
        "12. Створіть список з десяти елементів різного типу. Отримайте всі елементи, окрім двох перших та двох останніх та збережіть їх в новій змінній."
      ]
    },
    {
      "cell_type": "code",
      "execution_count": 15,
      "metadata": {
        "id": "_rHdUR-ueP4-",
        "colab": {
          "base_uri": "https://localhost:8080/"
        },
        "outputId": "d665cb6b-32f4-44a7-987c-9ca74b3ae4dc"
      },
      "outputs": [
        {
          "output_type": "stream",
          "name": "stdout",
          "text": [
            "Старий список: [1, 'two', 3.0, [4, 5], (6, 7), {'eight': 8}, True, None, 9, 10]\n",
            "Новий список: [3.0, [4, 5], (6, 7), {'eight': 8}, True, None]\n"
          ]
        }
      ],
      "source": [
        "mixed_list = [1, \"two\", 3.0, [4, 5], (6, 7), {\"eight\": 8}, True, None, 9, 10]\n",
        "\n",
        "new_list = mixed_list[2:-2]\n",
        "print(\"Старий список:\", mixed_list)\n",
        "print(\"Новий список:\", new_list)"
      ]
    },
    {
      "cell_type": "markdown",
      "metadata": {
        "id": "pCjR1dJb1Qbi"
      },
      "source": [
        "# V. Робота з кортежами."
      ]
    },
    {
      "cell_type": "markdown",
      "metadata": {
        "id": "fAZCxAX06R_k"
      },
      "source": [
        "14. Створити кортеж з один елементом."
      ]
    },
    {
      "cell_type": "code",
      "execution_count": 16,
      "metadata": {
        "id": "H7d82WkQev3e",
        "colab": {
          "base_uri": "https://localhost:8080/"
        },
        "outputId": "a314adb4-8abb-4f50-f653-00649634ca5d"
      },
      "outputs": [
        {
          "output_type": "stream",
          "name": "stdout",
          "text": [
            "(42,)\n"
          ]
        }
      ],
      "source": [
        "single_element_tuple = (42,)\n",
        "print(single_element_tuple)"
      ]
    },
    {
      "cell_type": "markdown",
      "metadata": {
        "id": "8LCtYcmI6w1M"
      },
      "source": [
        "15. Порівняйте список та кортеж. Назвіть схожості та відмінності, випадки використання."
      ]
    },
    {
      "cell_type": "markdown",
      "metadata": {
        "id": "fUsN1Hnue0C6"
      },
      "source": [
        "\n",
        "# Схожості\n",
        "# 1. Обидва є ітерабельними\n",
        "\n",
        "\n",
        "# 2. Можуть містити елементи різних типів даних\n",
        "mixed_data_list = [1, 'two', 3.0, [4, 5]]\n",
        "mixed_data_tuple = (1, 'two', 3.0, (4, 5))\n",
        "\n",
        "# 3. Доступ до елементів за допомогою індексів\n",
        "print(my_list[3])\n",
        "print(my_tuple[3])\n",
        "\n",
        "# Відмінності\n",
        "# 1. Змінюваність\n",
        "my_list[0] = 'new value'\n",
        "# my_tuple[0] = 'new value'  # Помилка - кортеж незмінюваний\n",
        "\n",
        "# 2. Синтаксис створення\n",
        "new_list = [x for x in range(5)]\n",
        "new_tuple = tuple(x for x in range(5))\n",
        "\n",
        "# 3. Застосування в ключах словників\n",
        "#dictionary_with_list = {[1, 2]: 'value'}  # Помилка - список не може бути ключем у словнику\n",
        "dictionary_with_tuple = {(1, 2): 'value'}\n",
        "\n",
        "# Випадки використання\n",
        "# Список використовуємо, коли:\n",
        "# - Потрібна можливість змінювати дані.\n",
        "# - Дані пов'язані з послідовністю чи порядком.\n",
        "\n",
        "# Кортеж використовуємо, коли:\n",
        "# - Дані не повинні змінюватися під час виконання програми.\n",
        "# - Потрібна оптимізація для читання.\n",
        "# - Використовуються як ключі у словниках.\n",
        "\n",
        "# Приклад модифікації\n",
        "my_list.append(6)\n",
        "# my_tuple.append(6)          # Помилка - кортеж незмінюваний\n"
      ]
    },
    {
      "cell_type": "markdown",
      "metadata": {
        "id": "m0xrwFijAmDD"
      },
      "source": [
        "16. Створіть кортеж з 11ти елементів чисел з рухомою комою та отримайте кожен парний за індексом елемент в зворотньому порядку. Наприклад, маючи (1.2, 2.3, 3.3, 4.3, 5.3, 6.3, 7.3, 8.3, 9.3, 0.3), отримати (0.3, 8.3, 6.3, 4.3, 2.3). Результат збережіть в нову змінну та виведіть на екран."
      ]
    },
    {
      "cell_type": "code",
      "execution_count": 17,
      "metadata": {
        "id": "p-5DAH6XfAGA",
        "colab": {
          "base_uri": "https://localhost:8080/"
        },
        "outputId": "cabeaf5e-536e-4f2a-b3b6-342ea5e59ca9"
      },
      "outputs": [
        {
          "output_type": "stream",
          "name": "stdout",
          "text": [
            "Original Tuple: (1.2, 2.3, 3.3, 4.3, 5.3, 6.3, 7.3, 8.3, 9.3, 0.3)\n",
            "Result Tuple: (0.3, 8.3, 6.3, 4.3, 2.3)\n"
          ]
        }
      ],
      "source": [
        "original_tuple = (1.2, 2.3, 3.3, 4.3, 5.3, 6.3, 7.3, 8.3, 9.3, 0.3)\n",
        "result_tuple = original_tuple[::-2]\n",
        "print(\"Original Tuple:\", original_tuple)\n",
        "print(\"Result Tuple:\", result_tuple)"
      ]
    },
    {
      "cell_type": "markdown",
      "metadata": {
        "id": "rW_I9dt3x6cW"
      },
      "source": [
        "# VI. Множини (Set)."
      ]
    },
    {
      "cell_type": "markdown",
      "metadata": {
        "id": "zNjRLHLw1Bgg"
      },
      "source": [
        "17. Створити множину без елементів. Після цого за допомогою методу додайте кілька різних елементів до множини. Чи множини є змінним типом даних?"
      ]
    },
    {
      "cell_type": "code",
      "execution_count": 18,
      "metadata": {
        "id": "KOv7zc2Kfo4N",
        "colab": {
          "base_uri": "https://localhost:8080/"
        },
        "outputId": "eee4b4b6-3133-42a7-bdd6-dc8dfe018366"
      },
      "outputs": [
        {
          "output_type": "stream",
          "name": "stdout",
          "text": [
            "17. Set: {10, 5, 'hello'}\n"
          ]
        }
      ],
      "source": [
        "empty_set = set()\n",
        "empty_set.add(5)\n",
        "empty_set.add(10)\n",
        "empty_set.add('hello')\n",
        "print(\"17. Set:\", empty_set)"
      ]
    },
    {
      "cell_type": "markdown",
      "metadata": {
        "id": "vxS6dVYiftZQ"
      },
      "source": [
        "Множини є змінним типом даних."
      ]
    },
    {
      "cell_type": "markdown",
      "metadata": {
        "id": "gHpT0Zw_1HEF"
      },
      "source": [
        "18. Створити множину, маючи список my_list = [1, 1, 2, 67, 67, 8, 9]. Пояснити, чому \"зникли\" деякі елементи."
      ]
    },
    {
      "cell_type": "code",
      "execution_count": 19,
      "metadata": {
        "id": "qCN4uvJ_fxmu",
        "colab": {
          "base_uri": "https://localhost:8080/"
        },
        "outputId": "98fb7b31-b0c6-4d9d-883b-d8fcc9232d76"
      },
      "outputs": [
        {
          "output_type": "stream",
          "name": "stdout",
          "text": [
            "18. Unique Set: {1, 2, 67, 8, 9}\n"
          ]
        }
      ],
      "source": [
        "my_list = [1, 1, 2, 67, 67, 8, 9]\n",
        "unique_set = set(my_list)\n",
        "print(\"18. Unique Set:\", unique_set)"
      ]
    },
    {
      "cell_type": "markdown",
      "metadata": {
        "id": "tFNc1e20fyny"
      },
      "source": [
        "У множині зникають дубльовані значення, оскільки вона містить лише унікальні елементи.\n"
      ]
    },
    {
      "cell_type": "markdown",
      "metadata": {
        "id": "SRMkGizS1UwY"
      },
      "source": [
        "19. Створіть дві множини. Продемонстуйте над ними операції: обʼєднання, різниці, пересічі та симетричної різниці. Використовуйте методи, що не змінюють множини, а створюють нові."
      ]
    },
    {
      "cell_type": "code",
      "execution_count": 20,
      "metadata": {
        "id": "h0T-VuDnf3Ri",
        "colab": {
          "base_uri": "https://localhost:8080/"
        },
        "outputId": "1f60731a-0257-4df4-b890-f21cbb649cbd"
      },
      "outputs": [
        {
          "output_type": "stream",
          "name": "stdout",
          "text": [
            "Union Result: {1, 2, 3, 4, 5, 6, 7}\n",
            "Difference Result: {1, 2}\n",
            "Intersection Result: {3, 4, 5}\n",
            "Symmetric Difference Result: {1, 2, 6, 7}\n"
          ]
        }
      ],
      "source": [
        "set_a = {1, 2, 3, 4, 5}\n",
        "set_b = {3, 4, 5, 6, 7}\n",
        "print(\"Union Result:\", set_a.union(set_b))\n",
        "print(\"Difference Result:\", set_a.difference(set_b))\n",
        "print(\"Intersection Result:\", set_a.intersection(set_b))\n",
        "print(\"Symmetric Difference Result:\", set_a.symmetric_difference(set_b))\n"
      ]
    },
    {
      "cell_type": "markdown",
      "metadata": {
        "id": "kWc8gkzTx7Ea"
      },
      "source": [
        "# VII. Словники (Dictionary)."
      ]
    },
    {
      "cell_type": "markdown",
      "metadata": {
        "id": "i5FLwj-B2ybQ"
      },
      "source": [
        "20. Створіть пустий словник. До нього додайте чотири пари елементів такі, щоб їхні ключі були різних типів. Чи може список бути ключем? Чому?"
      ]
    },
    {
      "cell_type": "code",
      "execution_count": 21,
      "metadata": {
        "id": "hxgv3BzrgLAV",
        "colab": {
          "base_uri": "https://localhost:8080/"
        },
        "outputId": "205db42a-08c9-4398-c6c8-f01723faeca1"
      },
      "outputs": [
        {
          "output_type": "stream",
          "name": "stdout",
          "text": [
            "Dictionary: {42: 'integer key', 'key': 'string key', 3.14: 'float key', True: 'boolean key'}\n"
          ]
        }
      ],
      "source": [
        "dictionnary = {}\n",
        "dictionnary[42] = 'integer key'\n",
        "dictionnary['key'] = 'string key'\n",
        "dictionnary[3.14] = 'float key'\n",
        "dictionnary[True] = 'boolean key'\n",
        "print(\"Dictionary:\", dictionnary)"
      ]
    },
    {
      "cell_type": "markdown",
      "metadata": {
        "id": "zwa7UVN-gR3m"
      },
      "source": [
        "Список не може бути ключем у словнику, оскільки ключі повинні бути хешованими, а списки - нехешованими.\n"
      ]
    },
    {
      "cell_type": "markdown",
      "metadata": {
        "id": "WM_pMlJsgoNf"
      },
      "source": [
        "21. Створіть словник, де значенням в одній з пар теж буде словник, який теж має вкладений словник. Виведіть на екран значення, що міститься в словнику, що знаходиться на найнижчому рівні ієрархії вкладеності (найбільш внутрішній)."
      ]
    },
    {
      "cell_type": "code",
      "execution_count": 22,
      "metadata": {
        "id": "60dlP7IHhAy4",
        "colab": {
          "base_uri": "https://localhost:8080/"
        },
        "outputId": "d2a9a054-00cb-4a01-c198-042f1e46872d"
      },
      "outputs": [
        {
          "output_type": "stream",
          "name": "stdout",
          "text": [
            "All Nested Dictionary Values:\n",
            "   Value: final_value\n",
            "   Value: extra_value\n"
          ]
        }
      ],
      "source": [
        "# Створення словника з вкладеними словниками та додаванням більше значень\n",
        "nested_dict = {'outer_key': {'inner_key': {'innermost_key': 'final_value', 'additional_key': 'extra_value'}}}\n",
        "\n",
        "# Виведення всіх значень за допомогою вбудованої функції values()\n",
        "print(\"All Nested Dictionary Values:\")\n",
        "for value in nested_dict['outer_key']['inner_key'].values():\n",
        "    print(f\"   Value: {value}\")"
      ]
    },
    {
      "cell_type": "markdown",
      "metadata": {
        "id": "xOZP0hkx6cCr"
      },
      "source": [
        "# Вітаю! Ви велика(ий) молодець, що впоралась(вся). Похваліть себе та побалуйте чимось приємним. Я Вами пишаюся."
      ]
    }
  ],
  "metadata": {
    "colab": {
      "provenance": []
    },
    "kernelspec": {
      "display_name": "Python 3",
      "name": "python3"
    },
    "language_info": {
      "name": "python"
    }
  },
  "nbformat": 4,
  "nbformat_minor": 0
}